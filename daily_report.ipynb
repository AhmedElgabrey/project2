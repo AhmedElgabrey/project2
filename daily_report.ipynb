{
 "cells": [
  {
   "cell_type": "code",
   "execution_count": 3,
   "id": "40f4cb00",
   "metadata": {},
   "outputs": [],
   "source": [
    "import json\n",
    "from datetime import date\n",
    "import matplotlib.pyplot as plt\n",
    "import seaborn as sns\n",
    "from collections import Counter\n",
    "from typing import Dict, List\n",
    "\n",
    "def generate_daily_emotion_report(posts: List[str], model, vectorizer, scaler, label_encoder) -> Dict:\n",
    "    \"\"\"\n",
    "    إنشاء تقرير يومي عن المشاعر المستخرجة من منشورات المستخدم.\n",
    "    \"\"\"\n",
    "    # تحليل المشاعر\n",
    "    emotions = [predict_emotion(p, model, vectorizer, label_encoder, scaler) for p in posts]\n",
    "    \n",
    "    # حساب التوزيع\n",
    "    emotion_counts = dict(Counter(emotions))\n",
    "    total = sum(emotion_counts.values())\n",
    "    emotion_distribution = {emotion: round((count / total) * 100, 2) for emotion, count in emotion_counts.items()}\n",
    "    \n",
    "    # عرض رسم بياني للمشاعر\n",
    "    plt.figure(figsize=(8, 5))\n",
    "    sns.barplot(x=list(emotion_distribution.keys()), y=list(emotion_distribution.values()), palette='Set2')\n",
    "    plt.title(\"توزيع المشاعر اليومي\")\n",
    "    plt.ylabel(\"%\")\n",
    "    plt.xlabel(\"المشاعر\")\n",
    "    plt.tight_layout()\n",
    "    plt.savefig(\"daily_emotion_chart.png\")\n",
    "    plt.close()\n",
    "\n",
    "    # استخراج أكثر 3 منشورات سلبية\n",
    "    negative_emotions = ['anger', 'sadness', 'fear']\n",
    "    negative_posts = [(text, emo) for text, emo in zip(posts, emotions) if emo in negative_emotions]\n",
    "    top_negative = negative_posts[:3]\n",
    "\n",
    "    # توليد توصيات\n",
    "    if top_negative:\n",
    "        dominant_negative = Counter([e for _, e in top_negative]).most_common(1)[0][0]\n",
    "    else:\n",
    "        dominant_negative = \"joy\"\n",
    "    \n",
    "    recommendations = recommend_content(emotion=dominant_negative)\n",
    "\n",
    "    # تجميع التقرير\n",
    "    report = {\n",
    "        \"date\": str(date.today()),\n",
    "        \"total_posts\": total,\n",
    "        \"emotion_distribution\": emotion_distribution,\n",
    "        \"top_negative_posts\": [{\"text\": t, \"emotion\": e} for t, e in top_negative],\n",
    "        \"recommendations\": recommendations\n",
    "    }\n",
    "\n",
    "    # حفظ التقرير بصيغة JSON\n",
    "    with open(\"daily_report.json\", \"w\", encoding=\"utf-8\") as f:\n",
    "        json.dump(report, f, indent=4, ensure_ascii=False)\n",
    "\n",
    "    print(\"📄 تم إنشاء تقرير اليوم: daily_report.json\")\n",
    "    print(\"📊 الرسم البياني محفوظ في: daily_emotion_chart.png\")\n",
    "    return report\n"
   ]
  },
  {
   "cell_type": "code",
   "execution_count": 4,
   "id": "221c692c",
   "metadata": {},
   "outputs": [
    {
     "ename": "NameError",
     "evalue": "name 'random_forest_model' is not defined",
     "output_type": "error",
     "traceback": [
      "\u001b[31m---------------------------------------------------------------------------\u001b[39m",
      "\u001b[31mNameError\u001b[39m                                 Traceback (most recent call last)",
      "\u001b[36mCell\u001b[39m\u001b[36m \u001b[39m\u001b[32mIn[4]\u001b[39m\u001b[32m, line 13\u001b[39m\n\u001b[32m      2\u001b[39m daily_posts = [\n\u001b[32m      3\u001b[39m     \u001b[33m\"\u001b[39m\u001b[33mI feel really anxious about school tomorrow.\u001b[39m\u001b[33m\"\u001b[39m,\n\u001b[32m      4\u001b[39m     \u001b[33m\"\u001b[39m\u001b[33mHad fun with my friends today!\u001b[39m\u001b[33m\"\u001b[39m,\n\u001b[32m   (...)\u001b[39m\u001b[32m      7\u001b[39m     \u001b[33m\"\u001b[39m\u001b[33mI feel so loved and appreciated.\u001b[39m\u001b[33m\"\u001b[39m\n\u001b[32m      8\u001b[39m ]\n\u001b[32m     10\u001b[39m \u001b[38;5;66;03m# إنشاء التقرير\u001b[39;00m\n\u001b[32m     11\u001b[39m generate_daily_emotion_report(\n\u001b[32m     12\u001b[39m     posts=daily_posts,\n\u001b[32m---> \u001b[39m\u001b[32m13\u001b[39m     model=\u001b[43mrandom_forest_model\u001b[49m,\n\u001b[32m     14\u001b[39m     vectorizer=tfidf,\n\u001b[32m     15\u001b[39m     scaler=scaler,\n\u001b[32m     16\u001b[39m     label_encoder=le\n\u001b[32m     17\u001b[39m )\n",
      "\u001b[31mNameError\u001b[39m: name 'random_forest_model' is not defined"
     ]
    }
   ],
   "source": [
    "# أمثلة على منشورات اليوم (من السوشيال ميديا أو نصوص الطفل)\n",
    "daily_posts = [\n",
    "    \"I feel really anxious about school tomorrow.\",\n",
    "    \"Had fun with my friends today!\",\n",
    "    \"Why is everything going wrong in my life?\",\n",
    "    \"Watched a peaceful documentary about nature.\",\n",
    "    \"I feel so loved and appreciated.\"\n",
    "]\n",
    "\n",
    "# إنشاء التقرير\n",
    "generate_daily_emotion_report(\n",
    "    posts=daily_posts,\n",
    "    model=random_forest_model,\n",
    "    vectorizer=tfidf,\n",
    "    scaler=scaler,\n",
    "    label_encoder=le\n",
    ")\n"
   ]
  }
 ],
 "metadata": {
  "kernelspec": {
   "display_name": "Python 3",
   "language": "python",
   "name": "python3"
  },
  "language_info": {
   "codemirror_mode": {
    "name": "ipython",
    "version": 3
   },
   "file_extension": ".py",
   "mimetype": "text/x-python",
   "name": "python",
   "nbconvert_exporter": "python",
   "pygments_lexer": "ipython3",
   "version": "3.11.9"
  }
 },
 "nbformat": 4,
 "nbformat_minor": 5
}
